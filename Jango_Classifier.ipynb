{
  "nbformat": 4,
  "nbformat_minor": 0,
  "metadata": {
    "colab": {
      "name": "Jango Classifier.ipynb",
      "provenance": [],
      "collapsed_sections": [],
      "include_colab_link": true
    },
    "kernelspec": {
      "name": "python3",
      "display_name": "Python 3"
    },
    "language_info": {
      "name": "python"
    }
  },
  "cells": [
    {
      "cell_type": "markdown",
      "metadata": {
        "id": "view-in-github",
        "colab_type": "text"
      },
      "source": [
        "<a href=\"https://colab.research.google.com/github/Sanj112/Jango-Aano-/blob/main/Jango_Classifier.ipynb\" target=\"_parent\"><img src=\"https://colab.research.google.com/assets/colab-badge.svg\" alt=\"Open In Colab\"/></a>"
      ]
    },
    {
      "cell_type": "code",
      "metadata": {
        "colab": {
          "base_uri": "https://localhost:8080/"
        },
        "id": "W4-DAJaRAEBG",
        "outputId": "282524e4-0615-4955-d5b3-5f0a24efd7c3"
      },
      "source": [
        "from google.colab import drive\n",
        "drive.mount('/content/drive')"
      ],
      "execution_count": null,
      "outputs": [
        {
          "output_type": "stream",
          "text": [
            "Mounted at /content/drive\n"
          ],
          "name": "stdout"
        }
      ]
    },
    {
      "cell_type": "code",
      "metadata": {
        "id": "TqGaMES_Wu6u"
      },
      "source": [
        "import torch\n",
        "import torch.nn as nn\n",
        "from torch import optim\n",
        "from torch.nn.functional import conv2d,max_pool2d,softmax,linear,relu.dropout2d\n"
      ],
      "execution_count": 3,
      "outputs": []
    },
    {
      "cell_type": "code",
      "metadata": {
        "id": "36RIiR7xmiA1"
      },
      "source": [
        "!pip install torch\n",
        "\n"
      ],
      "execution_count": null,
      "outputs": []
    },
    {
      "cell_type": "code",
      "metadata": {
        "id": "9MNUfFaVWoGa"
      },
      "source": [
        "#architecture based on Lenet\n",
        "class newmodel(nn.Module):\n",
        "  #defining basic layers\n",
        "  def __init__(self):\n",
        "    super(newmodel, self).__init__()\n",
        "    conv1=conv2d(3,6,5)\n",
        "    pool= max_pool2d(2,2)\n",
        "    conv2=conv2d(6,16,5)\n",
        "    fully_connected1=linear(16,120)\n",
        "    fully_connected2 =linear(120,84)\n",
        "    fully_connect3=linear(84,3)\n",
        "    drop=dropout2d(training = self.training)\n",
        "    \n",
        "\n",
        "  def forward(self,x):\n",
        "    x=self.ppl(relu(self.conv1(x)))\n",
        "    x=self.pool(relu(self.conv2(x)))\n",
        "    x=(self.fully_connected1(x))\n",
        "    x=self.fully_connected(x)\n",
        "    x=self.drop(x,training = self.training)\n",
        "    x=softmax(self.fully_connected(x))\n"
      ],
      "execution_count": 6,
      "outputs": []
    },
    {
      "cell_type": "markdown",
      "metadata": {
        "id": "LuQyZplj2-j3"
      },
      "source": [
        ""
      ]
    },
    {
      "cell_type": "code",
      "metadata": {
        "id": "Zc5sQ2k53Alz"
      },
      "source": [
        "model = newmodel()"
      ],
      "execution_count": null,
      "outputs": []
    },
    {
      "cell_type": "code",
      "metadata": {
        "id": "OC16pBQo3TRX"
      },
      "source": [
        ""
      ],
      "execution_count": null,
      "outputs": []
    }
  ]
}