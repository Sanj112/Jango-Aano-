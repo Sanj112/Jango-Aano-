{
  "nbformat": 4,
  "nbformat_minor": 0,
  "metadata": {
    "accelerator": "GPU",
    "colab": {
      "name": "Flask.ipynb",
      "provenance": [],
      "collapsed_sections": [],
      "include_colab_link": true
    },
    "kernelspec": {
      "display_name": "Python 3",
      "name": "python3"
    },
    "language_info": {
      "name": "python"
    }
  },
  "cells": [
    {
      "cell_type": "markdown",
      "metadata": {
        "id": "view-in-github",
        "colab_type": "text"
      },
      "source": [
        "<a href=\"https://colab.research.google.com/github/Sanj112/Jango-Aano-/blob/HEAD/Flask.ipynb\" target=\"_parent\"><img src=\"https://colab.research.google.com/assets/colab-badge.svg\" alt=\"Open In Colab\"/></a>"
      ]
    },
    {
      "cell_type": "code",
      "metadata": {
        "id": "9aPRUiN_1PNd"
      },
      "source": [
        " \n",
        "from flask import Flask, redirect, url_for, request, render_template\n",
        "!pip install flask_ngrok\n",
        "from flask_ngrok import run_with_ngrok\n",
        "from imageio import imread\n",
        "from PIL import Image\n",
        "import matplotlib.pyplot as plt\n",
        "import torchvision\n",
        "from torchvision import models, datasets\n",
        "import torchvision.transforms as transforms\n",
        "import torch\n",
        "import torch.nn as nn\n",
        "import torch.nn.functional as F\n",
        "!pip freeze > requirements.txt"
      ],
      "execution_count": null,
      "outputs": []
    },
    {
      "cell_type": "code",
      "metadata": {
        "id": "Uo52lQp2Sla8"
      },
      "source": [
        ""
      ],
      "execution_count": null,
      "outputs": []
    },
    {
      "cell_type": "code",
      "metadata": {
        "id": "8FkabwzR3raI"
      },
      "source": [
        "#example valid urls\n",
        "urll = \"https://thumbs.dreamstime.com/b/fruits-mango-scientific-name-mangifera-indica-anacardiaceae-ripened-fruit-piled-up-sale-thiruvananthapuram-kerala-india-48649430.jpg\"\n",
        "urll_strawberry=\"https://encrypted-tbn0.gstatic.com/images?q=tbn:ANd9GcTlVUvJaC6A7E6v6BiwlGbK-fbDhbOqFdF7Ig&usqp=CAU\"\n",
        "urlll = \"https://encrypted-tbn0.gstatic.com/images?q=tbn:ANd9GcSIbYghVvP244wnntIFb9K4sgaFbqW5lrCE-w&usqp=CAU\""
      ],
      "execution_count": null,
      "outputs": []
    },
    {
      "cell_type": "code",
      "metadata": {
        "id": "-jbkK2Zu2KJ1"
      },
      "source": [
        "from google.colab import drive\n",
        "drive.mount('/content/drive')"
      ],
      "execution_count": null,
      "outputs": []
    },
    {
      "cell_type": "code",
      "metadata": {
        "id": "3AtVRDIn4H-P"
      },
      "source": [
        "device = torch.device('cuda:0' if torch.cuda.is_available() else 'cpu')\n",
        "device"
      ],
      "execution_count": null,
      "outputs": []
    },
    {
      "cell_type": "code",
      "metadata": {
        "id": "tW2kdF8nKLUM"
      },
      "source": [
        "#architecture based on Lenet5\n",
        "class Net_jango(nn.Module):\n",
        "  #defining basic layers\n",
        "  def __init__(self):\n",
        "        super(Net_jango, self).__init__()\n",
        "\t# 3 input image channel, 6 output channels, 5x5 square convolution kernel\n",
        "        self.conv1 = nn.Conv2d(3, 6, 5)\n",
        "\t# Max pooling over a (2, 2) window\n",
        "        self.maxpool = nn.MaxPool2d(2, 2)\n",
        "\t# 6 input image channel, 16 output channels, 5x5 square convolution kernel\n",
        "        self.conv2 = nn.Conv2d(6, 16, 5) \n",
        "  #3 fully connected layers\n",
        "        self.fullyconnected1 = nn.Linear(16 * 5 * 5, 120)\n",
        "        self.fullyconnected2 = nn.Linear(120, 84)\n",
        "        self.fullyconnected3 = nn.Linear(84, 2)\n",
        "\n",
        "  def forward(self, x):\n",
        "\t# the forward propagation algorithm \n",
        "        x = self.maxpool(F.relu(self.conv1(x)))\n",
        "        x = self.maxpool(F.relu(self.conv2(x)))\n",
        "        x = x.view(-1, 16 * 5 * 5)\n",
        "        x = F.relu(self.fullyconnected1(x))\n",
        "        x = F.relu(self.fullyconnected2(x))\n",
        "        x = self.fullyconnected3(x)\n",
        "        return x\n",
        "\n",
        "    "
      ],
      "execution_count": null,
      "outputs": []
    },
    {
      "cell_type": "code",
      "metadata": {
        "id": "THgCkjXt2rUS"
      },
      "source": [
        "#loading model \n",
        "model = Net_jango()\n",
        "model_save_name = 'jango_classifier.pt'\n",
        "path_model = \"/content/drive/MyDrive/jackfruit_mango_classifier/\" + model_save_name\n",
        "model.load_state_dict(torch.load(path_model))\n",
        "#model.to(device)"
      ],
      "execution_count": null,
      "outputs": []
    },
    {
      "cell_type": "code",
      "metadata": {
        "id": "E3TmKPzo3MDn"
      },
      "source": [
        "#required transforms\n",
        "def transform_images(im):\n",
        "  mean = torch.tensor([0.485, 0.456, 0.406], dtype=torch.float)\n",
        "  std = torch.tensor([0.229, 0.224, 0.225], dtype=torch.float)\n",
        "  transform1 = transforms.Compose([\n",
        "      transforms.Resize((32,32)),\n",
        "      transforms.ToTensor(),\n",
        "      transforms.Normalize(mean=mean, std=std)])\n",
        "  image = transform1(im)\n",
        "  return image.unsqueeze(0)\n",
        "\n"
      ],
      "execution_count": null,
      "outputs": []
    },
    {
      "cell_type": "code",
      "metadata": {
        "id": "v4VomMZ62bwa"
      },
      "source": [
        "app = Flask(__name__,template_folder='/content/drive/MyDrive/jackfruit_mango_classifier/templates')\n",
        "run_with_ngrok(app)\n",
        " \n",
        "@app.route('/')\n",
        "def home():\n",
        "  return render_template('jango.html')\n",
        " \n",
        "@app.route('/predict', methods=['GET', 'POST'])\n",
        "def predict():\n",
        "  if request.method == 'GET':\n",
        "    user = request.args.get('source')\n",
        "    print(user)\n",
        "    image = imread(user,pilmode=\"RGB\")\n",
        "    image = Image.fromarray(image)\n",
        "    plt.imshow(image)\n",
        "    with torch.no_grad():\n",
        "      # transform the image    \n",
        "      transformed_image = transform_images(image)\n",
        "      \n",
        "      # use the model to predict the class\n",
        "      outputs = model(transformed_image)\n",
        "      output = nn.Softmax(dim=1)(outputs)[0]*100\n",
        "      max,id=torch.max(output,0)\n",
        "      classes =[\"chakka\", \"manga\"]\n",
        "\n",
        "      if(max>85):\n",
        "        out = \"The given image belongs to category : \"+classes[id]\n",
        "      else:\n",
        "        out = \"The given image is not mango or jackfruit\"\n",
        "    return redirect(url_for('success', out = out)) \n",
        "\n",
        "@app.route('/success/<out>')\n",
        "def success(out):\n",
        "    return render_template('jango.html', prediction_text = out)\n",
        " \n",
        "#\"https://images.app.goo.gl/PH1nAmmAPwf5dQBh7\" - mang\n",
        "#https://images.app.goo.gl/b6X46swmbpNgXWkZ6 - jack"
      ],
      "execution_count": null,
      "outputs": []
    },
    {
      "cell_type": "code",
      "metadata": {
        "id": "R55EuZptEtpg"
      },
      "source": [
        "app.run()"
      ],
      "execution_count": null,
      "outputs": []
    }
  ]
}