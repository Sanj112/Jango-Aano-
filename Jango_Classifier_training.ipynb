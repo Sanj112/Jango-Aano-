{
  "nbformat": 4,
  "nbformat_minor": 0,
  "metadata": {
    "accelerator": "GPU",
    "colab": {
      "name": "Jango Classifier_training.ipynb",
      "provenance": [],
      "collapsed_sections": [],
      "include_colab_link": true
    },
    "kernelspec": {
      "display_name": "Python 3",
      "name": "python3"
    },
    "language_info": {
      "name": "python"
    }
  },
  "cells": [
    {
      "cell_type": "markdown",
      "metadata": {
        "id": "view-in-github",
        "colab_type": "text"
      },
      "source": [
        "<a href=\"https://colab.research.google.com/github/Sanj112/Jango-Aano-/blob/main/Jango_Classifier_training.ipynb\" target=\"_parent\"><img src=\"https://colab.research.google.com/assets/colab-badge.svg\" alt=\"Open In Colab\"/></a>"
      ]
    },
    {
      "cell_type": "code",
      "metadata": {
        "colab": {
          "base_uri": "https://localhost:8080/"
        },
        "id": "W4-DAJaRAEBG",
        "outputId": "e33ebafb-27c4-4226-f3ab-09ad91d3a9fd"
      },
      "source": [
        "from google.colab import drive\n",
        "drive.mount('/content/drive')"
      ],
      "execution_count": null,
      "outputs": [
        {
          "output_type": "stream",
          "text": [
            "Drive already mounted at /content/drive; to attempt to forcibly remount, call drive.mount(\"/content/drive\", force_remount=True).\n"
          ],
          "name": "stdout"
        }
      ]
    },
    {
      "cell_type": "code",
      "metadata": {
        "id": "TqGaMES_Wu6u"
      },
      "source": [
        "import torch\n",
        "import torch.nn as nn\n",
        "import torch.nn.functional as F\n",
        "from torch.nn.functional import conv2d,max_pool2d,log_softmax,linear,relu,dropout2d,tanh\n",
        "import torchvision\n",
        "import torchvision.transforms as transforms\n",
        "from torchvision.datasets import ImageFolder\n",
        "import matplotlib.pyplot as plt\n",
        "import matplotlib.image as img\n",
        "from PIL import Image, ImageDraw\n",
        "import numpy as np\n",
        "import os\n",
        "import pandas as pd\n",
        "import cv2\n"
      ],
      "execution_count": null,
      "outputs": []
    },
    {
      "cell_type": "code",
      "metadata": {
        "id": "jZvvEn0qMIo4",
        "colab": {
          "base_uri": "https://localhost:8080/"
        },
        "outputId": "e66d0172-f768-481a-e7e7-fdfa531c6531"
      },
      "source": [
        "#loading trainimng data from drive\n",
        "mean = torch.tensor([0.485, 0.456, 0.406], dtype=torch.float)\n",
        "std = torch.tensor([0.229, 0.224, 0.225], dtype=torch.float)\n",
        "transform1 = transforms.Compose([\n",
        "    transforms.Resize((32,32)),\n",
        "    transforms.ToTensor(),\n",
        "    transforms.Normalize(mean=mean, std=std)])\n",
        "train_data = ImageFolder(r'/content/drive/MyDrive/jackfruit_mango_classifier/training_new_trial/',transform = transform1)\n",
        "print(train_data.classes)"
      ],
      "execution_count": null,
      "outputs": [
        {
          "output_type": "stream",
          "text": [
            "['chakka', 'manga']\n"
          ],
          "name": "stdout"
        }
      ]
    },
    {
      "cell_type": "code",
      "metadata": {
        "id": "F2CkUrrn7y4X",
        "colab": {
          "base_uri": "https://localhost:8080/"
        },
        "outputId": "eedbccba-34a5-40cd-f10d-5c4d4d2fa82d"
      },
      "source": [
        "#loading validation data\n",
        "valid_data = ImageFolder(r'/content/drive/MyDrive/jackfruit_mango_classifier/validation/',transform = transform1)\n",
        "img,label= valid_data[0]\n",
        "print(valid_data.classes)"
      ],
      "execution_count": null,
      "outputs": [
        {
          "output_type": "stream",
          "text": [
            "['chakka', 'maanga']\n"
          ],
          "name": "stdout"
        }
      ]
    },
    {
      "cell_type": "code",
      "metadata": {
        "id": "eIoAgI-nwaha"
      },
      "source": [
        "# Create a Train DataLoader using Train Dataset\n",
        "train_data_loader = torch.utils.data.DataLoader(\n",
        "    dataset=train_data,\n",
        "    batch_size=16,\n",
        "    shuffle=False\n",
        "    \n",
        ")\n",
        "# Create a Test DataLoader using Validation Dataset\n",
        "\n",
        "val_data_loader = torch.utils.data.DataLoader(\n",
        "    dataset = valid_data, \n",
        "    batch_size = 5, \n",
        "    shuffle=False\n",
        "    \n",
        "    )"
      ],
      "execution_count": null,
      "outputs": []
    },
    {
      "cell_type": "code",
      "metadata": {
        "id": "IMi2ODNo3l0m"
      },
      "source": [
        "#architecture based on Lenet5\n",
        "class Net_jango(nn.Module):\n",
        "    def __init__(self):\n",
        "        super(Net_jango, self).__init__()\n",
        "        self.conv1 = nn.Conv2d(3, 6, 5)\n",
        "        self.maxpool = nn.MaxPool2d(2, 2)\n",
        "        self.conv2 = nn.Conv2d(6, 16, 5) \n",
        "        self.fullyconnected1 = nn.Linear(16 * 5 * 5, 120)\n",
        "        self.fullyconnected2 = nn.Linear(120, 84)\n",
        "        self.fullyconnected3 = nn.Linear(84, 2)\n",
        "\n",
        "    def forward(self, x):\n",
        "\n",
        "        x = self.maxpool(F.relu(self.conv1(x)))\n",
        "        x = self.maxpool(F.relu(self.conv2(x)))\n",
        "        x = x.view(-1, 16 * 5 * 5)\n",
        "        x = F.relu(self.fullyconnected1(x))\n",
        "        x = F.relu(self.fullyconnected2(x))\n",
        "        x = self.fullyconnected3(x)\n",
        "        return x"
      ],
      "execution_count": null,
      "outputs": []
    },
    {
      "cell_type": "code",
      "metadata": {
        "id": "9Vk0j8XwYj1r",
        "colab": {
          "base_uri": "https://localhost:8080/"
        },
        "outputId": "6b399838-b506-481b-e3a9-eed57bbc1978"
      },
      "source": [
        "#model_initialisation and loading the trained model from drive for further training\n",
        "model = Net_jango()\n",
        "print(model)\n",
        "model_save_name = 'jango_classifier.pt'\n",
        "path_model = \"/content/drive/MyDrive/jackfruit_mango_classifier/\" + model_save_name\n",
        "model.load_state_dict(torch.load(path_model))"
      ],
      "execution_count": null,
      "outputs": [
        {
          "output_type": "stream",
          "text": [
            "Net_jango(\n",
            "  (conv1): Conv2d(3, 6, kernel_size=(5, 5), stride=(1, 1))\n",
            "  (maxpool): MaxPool2d(kernel_size=2, stride=2, padding=0, dilation=1, ceil_mode=False)\n",
            "  (conv2): Conv2d(6, 16, kernel_size=(5, 5), stride=(1, 1))\n",
            "  (fullyconnected1): Linear(in_features=400, out_features=120, bias=True)\n",
            "  (fullyconnected2): Linear(in_features=120, out_features=84, bias=True)\n",
            "  (fullyconnected3): Linear(in_features=84, out_features=2, bias=True)\n",
            ")\n"
          ],
          "name": "stdout"
        },
        {
          "output_type": "execute_result",
          "data": {
            "text/plain": [
              "<All keys matched successfully>"
            ]
          },
          "metadata": {
            "tags": []
          },
          "execution_count": 8
        }
      ]
    },
    {
      "cell_type": "markdown",
      "metadata": {
        "id": "LuQyZplj2-j3"
      },
      "source": [
        ""
      ]
    },
    {
      "cell_type": "code",
      "metadata": {
        "id": "Zc5sQ2k53Alz"
      },
      "source": [
        "#checking whether cuda available\n",
        "\n",
        "device = torch.device('cuda:0' if torch.cuda.is_available() else 'cpu')\n",
        "device\n",
        "if torch.cuda.is_available():\n",
        "    model.cuda()\n",
        "else:\n",
        "    model.cpu()"
      ],
      "execution_count": null,
      "outputs": []
    },
    {
      "cell_type": "code",
      "metadata": {
        "id": "OC16pBQo3TRX"
      },
      "source": [
        "#loss function and optimiser\n",
        "epochs =1\n",
        "batch_size = 5\n",
        "learning_rate = 0.001\n",
        "loss_f = torch.nn.NLLLoss()\n",
        "loss_func =nn.CrossEntropyLoss()\n",
        "optimise=torch.optim.Adam(model.parameters(),lr=0.001)"
      ],
      "execution_count": null,
      "outputs": []
    },
    {
      "cell_type": "markdown",
      "metadata": {
        "id": "d549klqBiyco"
      },
      "source": [
        ""
      ]
    },
    {
      "cell_type": "code",
      "metadata": {
        "id": "z-9trmcIjmPx"
      },
      "source": [
        "#training and testing\n",
        "train_loss=[]\n",
        "val_loss=[]\n",
        "accuracy = []\n",
        "\n",
        "for epoch in range(epochs):\n",
        "  trainloss=0\n",
        "  validloss=0\n",
        "\n",
        "  model.train()\n",
        "  for data,label in train_data_loader:\n",
        "    data = data.to(device)\n",
        "    label = label.to(device)\n",
        "    #to clear gradients\n",
        "    optimise.zero_grad()\n",
        "    output = model(data)\n",
        "    # print(output)\n",
        "    loss = loss_func(output,label)\n",
        "    loss.backward()\n",
        "    optimise.step()\n",
        "    trainloss += loss.item() #.item to convert to float\n",
        "    train_loss.append(trainloss)\n",
        "    \n",
        "\n",
        "  model.eval()\n",
        "\n",
        "  for data,label in val_data_loader:\n",
        "    data = data.to(device)\n",
        "    label = label.to(device)\n",
        "    output = model(data)\n",
        "    # print(output)\n",
        "    loss = loss_func(output,label)\n",
        "    validloss += loss.item() \n",
        "    val_loss.append(validloss)\n",
        "    accuracy.append((label==torch.argmax(output.data,1)).sum().item() / label.shape[0])\n",
        "\n",
        "  print('Epoch: {} \\tTraining Loss: {:.6f} \\tValidation Loss: {:.6f} \\t valid_accuracy: {:.2f}'.format(epoch, trainloss, validloss,sum(accuracy)/len(accuracy)))\n",
        "    \n",
        "  torch.save(model.state_dict(), '/content/drive/MyDrive/jackfruit_mango_classifier/model.ckpt')\n",
        "     "
      ],
      "execution_count": null,
      "outputs": []
    },
    {
      "cell_type": "markdown",
      "metadata": {
        "id": "mi5Rvhc7NOas"
      },
      "source": [
        ""
      ]
    },
    {
      "cell_type": "code",
      "metadata": {
        "id": "l91iRTSEwm-l"
      },
      "source": [
        "model.eval()\n",
        "i=0\n",
        "accuracy=[]\n",
        "with torch.no_grad():\n",
        "  correct=0\n",
        "  total=0\n",
        "  for data,label in val_data_loader:\n",
        "    data = data.to(device)\n",
        "    label = label.to(device)\n",
        "   # print(\"label=\",label)\n",
        "    i+=1\n",
        "    output = model(data)\n",
        "    #print(\"output\",output.data)\n",
        "    x,predicted = torch.max(output.data,1)\n",
        "    accuracy.append((label==torch.argmax(output.data,1)).sum().item() / label.shape[0])\n",
        "        \n",
        "    print('Accuracy:'+ str(sum(accuracy)/len(accuracy)))\n",
        "    #print(data,predicted)"
      ],
      "execution_count": null,
      "outputs": []
    },
    {
      "cell_type": "code",
      "metadata": {
        "id": "Mu4q22Z9IRmP"
      },
      "source": [
        "#saving trained model to drive\n",
        "\n",
        "model_save_name = 'jango_classifier.pt'\n",
        "path_model = \"/content/drive/MyDrive/jackfruit_mango_classifier/\" + model_save_name\n",
        "torch.save(model.state_dict(), path_model)\n",
        "import pickle \n",
        "pickle_out = open(\"/content/drive/MyDrive/jackfruit_mango_classifier/classifier.pkl\", mode = \"wb\") \n",
        "pickle.dump(model, pickle_out) \n",
        "pickle_out.close()"
      ],
      "execution_count": null,
      "outputs": []
    },
    {
      "cell_type": "code",
      "metadata": {
        "id": "i4Y3G5Vvwiai"
      },
      "source": [
        "#visualise fitting\n",
        "%matplotlib inline\n",
        "%config InlineBackend.figure_format = 'retina'\n",
        "\n",
        "plt.plot(train_loss, label='Training loss')\n",
        "plt.plot(val_loss, label='Validation loss')\n",
        "plt.xlabel(\"Epochs\")\n",
        "plt.ylabel(\"Loss\")\n",
        "plt.legend(frameon=False)\n"
      ],
      "execution_count": null,
      "outputs": []
    },
    {
      "cell_type": "code",
      "metadata": {
        "id": "T4wHZgBhITge"
      },
      "source": [
        "#gettimg images from url and testing\n",
        "urll = \"https://thumbs.dreamstime.com/b/fruits-mango-scientific-name-mangifera-indica-anacardiaceae-ripened-fruit-piled-up-sale-thiruvananthapuram-kerala-india-48649430.jpg\"\n",
        "\n",
        "from imageio import imread\n",
        "image1 = imread(urll,pilmode=\"RGB\")\n",
        "image1 = Image.fromarray(image1)\n",
        "plt.imshow(image1)"
      ],
      "execution_count": null,
      "outputs": []
    },
    {
      "cell_type": "code",
      "metadata": {
        "id": "2wnpZgzqnKpk"
      },
      "source": [
        "model.eval()\n",
        "\n",
        "class_list ={0:'chakka', 1:'maanga'}\n",
        "detransform= transforms.Compose([\n",
        "    transforms.Normalize(mean = -mean/std, std = 1./std),\n",
        "    transforms.ToPILImage()\n",
        "])\n",
        "transform1 = transforms.Compose([                                                                                           \n",
        "    transforms.Resize((32,32)),\n",
        "    transforms.ToTensor(),\n",
        "    transforms.Normalize(mean=mean, std=std)])\n",
        "\n",
        "image=transform1(image1)\n",
        "image = image.unsqueeze(0).to(device)\n",
        "\n",
        "with torch.no_grad():\n",
        "        \n",
        "        output = model(image)\n",
        "        output = nn.Softmax(dim=1)(output)[0]*100\n",
        "        print(output)\n",
        "        max,id=torch.max(output,0)\n",
        "        print(max,id,output[id])\n",
        "        id = output.argmax().data.item()\n",
        "        oclass = list(class_list.keys())[id]\n",
        "        output = output.int().data.cpu().numpy()\n",
        "\n",
        "        display(detransform(image.squeeze(0)))\n",
        "        if(max>85):\n",
        "          print(class_list[oclass], ':', output[id], '%')\n",
        "        else:\n",
        "          print(\"image not mango or jackfruit\")\n"
      ],
      "execution_count": null,
      "outputs": []
    },
    {
      "cell_type": "markdown",
      "metadata": {
        "id": "X_8815Cqcenm"
      },
      "source": [
        ""
      ]
    }
  ]
}